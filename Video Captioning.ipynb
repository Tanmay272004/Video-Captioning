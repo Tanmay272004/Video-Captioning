{
 "cells": [
  {
   "cell_type": "code",
   "execution_count": 1,
   "id": "cd0370f2",
   "metadata": {},
   "outputs": [
    {
     "name": "stdout",
     "output_type": "stream",
     "text": [
      "Collecting opencv-python\n",
      "  Downloading opencv_python-4.11.0.86-cp37-abi3-win_amd64.whl (39.5 MB)\n",
      "     -------------------------------------- 39.5/39.5 MB 673.8 kB/s eta 0:00:00\n",
      "Collecting gdown\n",
      "  Downloading gdown-5.2.0-py3-none-any.whl (18 kB)\n",
      "Collecting torch\n",
      "  Downloading torch-2.7.1-cp39-cp39-win_amd64.whl (216.0 MB)\n",
      "     ------------------------------------ 216.0/216.0 MB 934.8 kB/s eta 0:00:00\n",
      "Collecting torchvision\n",
      "  Downloading torchvision-0.22.1-cp39-cp39-win_amd64.whl (1.7 MB)\n",
      "     ---------------------------------------- 1.7/1.7 MB 1.6 MB/s eta 0:00:00\n",
      "Collecting transformers\n",
      "  Downloading transformers-4.52.4-py3-none-any.whl (10.5 MB)\n",
      "     ---------------------------------------- 10.5/10.5 MB 1.2 MB/s eta 0:00:00\n",
      "Requirement already satisfied: pillow in d:\\anaconda\\lib\\site-packages (9.2.0)\n",
      "Collecting openai\n",
      "  Downloading openai-1.85.0-py3-none-any.whl (730 kB)\n",
      "     -------------------------------------- 730.2/730.2 kB 1.8 MB/s eta 0:00:00\n",
      "Requirement already satisfied: numpy>=1.19.3 in d:\\anaconda\\lib\\site-packages (from opencv-python) (1.21.5)\n",
      "Requirement already satisfied: requests[socks] in d:\\anaconda\\lib\\site-packages (from gdown) (2.28.1)\n",
      "Requirement already satisfied: tqdm in d:\\anaconda\\lib\\site-packages (from gdown) (4.64.1)\n",
      "Requirement already satisfied: filelock in d:\\anaconda\\lib\\site-packages (from gdown) (3.6.0)\n",
      "Requirement already satisfied: beautifulsoup4 in d:\\anaconda\\lib\\site-packages (from gdown) (4.11.1)\n",
      "Requirement already satisfied: fsspec in d:\\anaconda\\lib\\site-packages (from torch) (2022.7.1)\n",
      "Requirement already satisfied: jinja2 in d:\\anaconda\\lib\\site-packages (from torch) (2.11.3)\n",
      "Collecting sympy>=1.13.3\n",
      "  Downloading sympy-1.14.0-py3-none-any.whl (6.3 MB)\n",
      "     ---------------------------------------- 6.3/6.3 MB 1.0 MB/s eta 0:00:00\n",
      "Requirement already satisfied: networkx in d:\\anaconda\\lib\\site-packages (from torch) (2.8.4)\n",
      "Requirement already satisfied: typing-extensions>=4.10.0 in d:\\anaconda\\lib\\site-packages (from torch) (4.11.0)\n",
      "Collecting safetensors>=0.4.3\n",
      "  Downloading safetensors-0.5.3-cp38-abi3-win_amd64.whl (308 kB)\n",
      "     -------------------------------------- 308.9/308.9 kB 1.1 MB/s eta 0:00:00\n",
      "Collecting huggingface-hub<1.0,>=0.30.0\n",
      "  Downloading huggingface_hub-0.32.4-py3-none-any.whl (512 kB)\n",
      "     -------------------------------------- 512.1/512.1 kB 1.7 MB/s eta 0:00:00\n",
      "Requirement already satisfied: pyyaml>=5.1 in d:\\anaconda\\lib\\site-packages (from transformers) (6.0)\n",
      "Requirement already satisfied: packaging>=20.0 in d:\\anaconda\\lib\\site-packages (from transformers) (21.3)\n",
      "Requirement already satisfied: regex!=2019.12.17 in d:\\anaconda\\lib\\site-packages (from transformers) (2022.7.9)\n",
      "Collecting tokenizers<0.22,>=0.21\n",
      "  Downloading tokenizers-0.21.1-cp39-abi3-win_amd64.whl (2.4 MB)\n",
      "     ---------------------------------------- 2.4/2.4 MB 1.7 MB/s eta 0:00:00\n",
      "Collecting jiter<1,>=0.4.0\n",
      "  Downloading jiter-0.10.0-cp39-cp39-win_amd64.whl (208 kB)\n",
      "     -------------------------------------- 208.8/208.8 kB 3.2 MB/s eta 0:00:00\n",
      "Requirement already satisfied: anyio<5,>=3.5.0 in d:\\anaconda\\lib\\site-packages (from openai) (3.5.0)\n",
      "Collecting pydantic<3,>=1.9.0\n",
      "  Downloading pydantic-2.11.5-py3-none-any.whl (444 kB)\n",
      "     -------------------------------------- 444.2/444.2 kB 2.1 MB/s eta 0:00:00\n",
      "Collecting distro<2,>=1.7.0\n",
      "  Downloading distro-1.9.0-py3-none-any.whl (20 kB)\n",
      "Requirement already satisfied: sniffio in d:\\anaconda\\lib\\site-packages (from openai) (1.3.1)\n",
      "Collecting httpx<1,>=0.23.0\n",
      "  Downloading httpx-0.28.1-py3-none-any.whl (73 kB)\n",
      "     ---------------------------------------- 73.5/73.5 kB 1.0 MB/s eta 0:00:00\n",
      "Requirement already satisfied: idna>=2.8 in d:\\anaconda\\lib\\site-packages (from anyio<5,>=3.5.0->openai) (3.3)\n",
      "Collecting httpcore==1.*\n",
      "  Downloading httpcore-1.0.9-py3-none-any.whl (78 kB)\n",
      "     ---------------------------------------- 78.8/78.8 kB 1.5 MB/s eta 0:00:00\n",
      "Requirement already satisfied: certifi in d:\\anaconda\\lib\\site-packages (from httpx<1,>=0.23.0->openai) (2022.9.14)\n",
      "Collecting h11>=0.16\n",
      "  Downloading h11-0.16.0-py3-none-any.whl (37 kB)\n",
      "Collecting fsspec\n",
      "  Downloading fsspec-2025.5.1-py3-none-any.whl (199 kB)\n",
      "     -------------------------------------- 199.1/199.1 kB 2.0 MB/s eta 0:00:00\n",
      "Requirement already satisfied: pyparsing!=3.0.5,>=2.0.2 in d:\\anaconda\\lib\\site-packages (from packaging>=20.0->transformers) (3.0.9)\n",
      "Collecting annotated-types>=0.6.0\n",
      "  Downloading annotated_types-0.7.0-py3-none-any.whl (13 kB)\n",
      "Collecting pydantic-core==2.33.2\n",
      "  Downloading pydantic_core-2.33.2-cp39-cp39-win_amd64.whl (2.0 MB)\n",
      "     ---------------------------------------- 2.0/2.0 MB 669.7 kB/s eta 0:00:00\n",
      "Collecting typing-extensions>=4.10.0\n",
      "  Downloading typing_extensions-4.14.0-py3-none-any.whl (43 kB)\n",
      "     -------------------------------------- 43.8/43.8 kB 126.8 kB/s eta 0:00:00\n",
      "Collecting typing-inspection>=0.4.0\n",
      "  Downloading typing_inspection-0.4.1-py3-none-any.whl (14 kB)\n",
      "Requirement already satisfied: mpmath<1.4,>=1.1.0 in d:\\anaconda\\lib\\site-packages (from sympy>=1.13.3->torch) (1.2.1)\n",
      "Requirement already satisfied: colorama in d:\\anaconda\\lib\\site-packages (from tqdm->gdown) (0.4.5)\n",
      "Requirement already satisfied: soupsieve>1.2 in d:\\anaconda\\lib\\site-packages (from beautifulsoup4->gdown) (2.3.1)\n",
      "Requirement already satisfied: MarkupSafe>=0.23 in d:\\anaconda\\lib\\site-packages (from jinja2->torch) (2.0.1)\n",
      "Requirement already satisfied: urllib3<1.27,>=1.21.1 in d:\\anaconda\\lib\\site-packages (from requests[socks]->gdown) (1.26.11)\n",
      "Requirement already satisfied: charset-normalizer<3,>=2 in d:\\anaconda\\lib\\site-packages (from requests[socks]->gdown) (2.0.4)\n",
      "Requirement already satisfied: PySocks!=1.5.7,>=1.5.6 in d:\\anaconda\\lib\\site-packages (from requests[socks]->gdown) (1.7.1)\n",
      "Installing collected packages: typing-extensions, sympy, safetensors, opencv-python, jiter, h11, fsspec, distro, annotated-types, typing-inspection, torch, pydantic-core, huggingface-hub, httpcore, torchvision, tokenizers, pydantic, httpx, gdown, transformers, openai\n",
      "  Attempting uninstall: typing-extensions\n",
      "    Found existing installation: typing_extensions 4.11.0\n",
      "    Uninstalling typing_extensions-4.11.0:\n",
      "      Successfully uninstalled typing_extensions-4.11.0\n",
      "  Attempting uninstall: sympy\n",
      "    Found existing installation: sympy 1.10.1\n",
      "    Uninstalling sympy-1.10.1:\n",
      "      Successfully uninstalled sympy-1.10.1\n",
      "  Attempting uninstall: h11\n",
      "    Found existing installation: h11 0.14.0\n",
      "    Uninstalling h11-0.14.0:\n",
      "      Successfully uninstalled h11-0.14.0\n",
      "  Attempting uninstall: fsspec\n",
      "    Found existing installation: fsspec 2022.7.1\n",
      "    Uninstalling fsspec-2022.7.1:\n",
      "      Successfully uninstalled fsspec-2022.7.1\n",
      "Successfully installed annotated-types-0.7.0 distro-1.9.0 fsspec-2025.5.1 gdown-5.2.0 h11-0.16.0 httpcore-1.0.9 httpx-0.28.1 huggingface-hub-0.32.4 jiter-0.10.0 openai-1.85.0 opencv-python-4.11.0.86 pydantic-2.11.5 pydantic-core-2.33.2 safetensors-0.5.3 sympy-1.14.0 tokenizers-0.21.1 torch-2.7.1 torchvision-0.22.1 transformers-4.52.4 typing-extensions-4.14.0 typing-inspection-0.4.1\n",
      "Note: you may need to restart the kernel to use updated packages.\n"
     ]
    }
   ],
   "source": [
    "pip install opencv-python gdown torch torchvision transformers pillow openai\n"
   ]
  },
  {
   "cell_type": "code",
   "execution_count": 2,
   "id": "9ba64795",
   "metadata": {},
   "outputs": [],
   "source": [
    "import os\n",
    "import cv2\n",
    "import torch\n",
    "import gdown\n",
    "from transformers import BlipProcessor, BlipForConditionalGeneration\n",
    "from PIL import Image\n",
    "from openai import OpenAI"
   ]
  },
  {
   "cell_type": "code",
   "execution_count": 3,
   "id": "2f094eed",
   "metadata": {},
   "outputs": [],
   "source": [
    "TEMP_VIDEO = \"temp_video.mp4\"\n",
    "FRAME_FOLDER = \"frames\"\n",
    "CAPTIONS_FILE = \"captions.txt\"\n",
    "os.makedirs(FRAME_FOLDER, exist_ok=True)"
   ]
  },
  {
   "cell_type": "code",
   "execution_count": 4,
   "id": "9aad1faf",
   "metadata": {},
   "outputs": [],
   "source": [
    "def download_from_gdrive(gdrive_url, output_path=TEMP_VIDEO):\n",
    "    file_id = gdrive_url.split(\"/d/\")[1].split(\"/\")[0]\n",
    "    direct_link = f\"https://drive.google.com/uc?id={file_id}\"\n",
    "    gdown.download(direct_link, output_path, quiet=False)\n",
    "    print(\"✅ Video downloaded.\")"
   ]
  },
  {
   "cell_type": "code",
   "execution_count": 5,
   "id": "6a9324bc",
   "metadata": {},
   "outputs": [],
   "source": [
    "def extract_frames(video_path, interval=30):\n",
    "    cap = cv2.VideoCapture(video_path)\n",
    "    i = 0\n",
    "    saved = 0\n",
    "    while True:\n",
    "        ret, frame = cap.read()\n",
    "        if not ret:\n",
    "            break\n",
    "        if i % interval == 0:\n",
    "            frame_path = os.path.join(FRAME_FOLDER, f\"frame_{saved}.jpg\")\n",
    "            cv2.imwrite(frame_path, frame)\n",
    "            saved += 1\n",
    "        i += 1\n",
    "    cap.release()\n",
    "    print(f\"✅ Extracted {saved} frames.\")"
   ]
  },
  {
   "cell_type": "code",
   "execution_count": 6,
   "id": "067c2329",
   "metadata": {},
   "outputs": [],
   "source": [
    "def caption_with_blip():\n",
    "    device = \"cuda\" if torch.cuda.is_available() else \"cpu\"\n",
    "    processor = BlipProcessor.from_pretrained(\"Salesforce/blip-image-captioning-base\")\n",
    "    model = BlipForConditionalGeneration.from_pretrained(\"Salesforce/blip-image-captioning-base\").to(device)\n",
    "\n",
    "    captions = []\n",
    "    for filename in sorted(os.listdir(FRAME_FOLDER)):\n",
    "        img_path = os.path.join(FRAME_FOLDER, filename)\n",
    "        raw_image = Image.open(img_path).convert('RGB')\n",
    "        inputs = processor(raw_image, return_tensors=\"pt\").to(device)\n",
    "        out = model.generate(**inputs)\n",
    "        caption = processor.decode(out[0], skip_special_tokens=True)\n",
    "        captions.append(caption)\n",
    "\n",
    "    with open(CAPTIONS_FILE, 'w') as f:\n",
    "        for cap in captions:\n",
    "            f.write(cap + \"\\n\")\n",
    "\n",
    "    print(\"✅ Captions generated.\")\n",
    "    return captions"
   ]
  },
  {
   "cell_type": "code",
   "execution_count": 7,
   "id": "42120b04",
   "metadata": {},
   "outputs": [],
   "source": [
    "def summarize_with_gpt(captions, openai_api_key):\n",
    "    client = OpenAI(api_key=openai_api_key)\n",
    "    prompt = \"Here are some image captions from a video:\\n\\n\" + \"\\n\".join(captions)\n",
    "    prompt += \"\\n\\nWrite a natural language summary of what is happening in the video.\"\n",
    "\n",
    "    completion = client.chat.completions.create(\n",
    "        model=\"gpt-4\",\n",
    "        messages=[{\"role\": \"user\", \"content\": prompt}],\n",
    "        temperature=0.7,\n",
    "    )\n",
    "\n",
    "    summary = completion.choices[0].message.content\n",
    "    print(\"\\n🎬 Video Summary:\\n\", summary)\n",
    "    return summary"
   ]
  },
  {
   "cell_type": "code",
   "execution_count": 8,
   "id": "4a24f844",
   "metadata": {},
   "outputs": [],
   "source": [
    "def main(gdrive_link, openai_key=None):\n",
    "    download_from_gdrive(gdrive_link)\n",
    "    extract_frames(TEMP_VIDEO)\n",
    "    captions = caption_with_blip()\n",
    "    if openai_key:\n",
    "        summarize_with_gpt(captions, openai_key)\n",
    "    else:\n",
    "        print(\"\\n🔎 Captions:\\n\", \"\\n\".join(captions))"
   ]
  },
  {
   "cell_type": "code",
   "execution_count": 9,
   "id": "926c727e",
   "metadata": {},
   "outputs": [
    {
     "name": "stdout",
     "output_type": "stream",
     "text": [
      "Enter Google Drive link to video: https://drive.google.com/file/d/1Z9PSngM8qqRPr5X2Q0QXb1GUnQG8yTQM/view?usp=drive_link\n",
      "Do you want GPT summary? (y/n): y\n",
      "Enter your OpenAI API key (press enter to skip): \n"
     ]
    },
    {
     "name": "stderr",
     "output_type": "stream",
     "text": [
      "Downloading...\n",
      "From: https://drive.google.com/uc?id=1Z9PSngM8qqRPr5X2Q0QXb1GUnQG8yTQM\n",
      "To: C:\\Users\\DELL\\temp_video.mp4\n",
      "100%|███████████████████████████████████████████████████████████████████████████████| 288k/288k [00:00<00:00, 1.15MB/s]\n"
     ]
    },
    {
     "name": "stdout",
     "output_type": "stream",
     "text": [
      "✅ Video downloaded.\n"
     ]
    },
    {
     "name": "stderr",
     "output_type": "stream",
     "text": [
      "Using a slow image processor as `use_fast` is unset and a slow processor was saved with this model. `use_fast=True` will be the default behavior in v4.52, even if the model was saved with a slow processor. This will result in minor differences in outputs. You'll still be able to use a slow processor with `use_fast=False`.\n"
     ]
    },
    {
     "name": "stdout",
     "output_type": "stream",
     "text": [
      "✅ Extracted 6 frames.\n"
     ]
    },
    {
     "data": {
      "application/vnd.jupyter.widget-view+json": {
       "model_id": "8ba56d3eb315401c949ba774a9e6b31d",
       "version_major": 2,
       "version_minor": 0
      },
      "text/plain": [
       "preprocessor_config.json:   0%|          | 0.00/287 [00:00<?, ?B/s]"
      ]
     },
     "metadata": {},
     "output_type": "display_data"
    },
    {
     "data": {
      "application/vnd.jupyter.widget-view+json": {
       "model_id": "44b3324b9bea4dd4b927aeafd17484bf",
       "version_major": 2,
       "version_minor": 0
      },
      "text/plain": [
       "tokenizer_config.json:   0%|          | 0.00/506 [00:00<?, ?B/s]"
      ]
     },
     "metadata": {},
     "output_type": "display_data"
    },
    {
     "data": {
      "application/vnd.jupyter.widget-view+json": {
       "model_id": "d7c910f3b48f4c7fb06e46ad65214366",
       "version_major": 2,
       "version_minor": 0
      },
      "text/plain": [
       "vocab.txt:   0%|          | 0.00/232k [00:00<?, ?B/s]"
      ]
     },
     "metadata": {},
     "output_type": "display_data"
    },
    {
     "data": {
      "application/vnd.jupyter.widget-view+json": {
       "model_id": "131dc43f729d4870bfb0426be518e46e",
       "version_major": 2,
       "version_minor": 0
      },
      "text/plain": [
       "tokenizer.json:   0%|          | 0.00/711k [00:00<?, ?B/s]"
      ]
     },
     "metadata": {},
     "output_type": "display_data"
    },
    {
     "data": {
      "application/vnd.jupyter.widget-view+json": {
       "model_id": "ba3c919ab921439fa84c0444a0afc09a",
       "version_major": 2,
       "version_minor": 0
      },
      "text/plain": [
       "special_tokens_map.json:   0%|          | 0.00/125 [00:00<?, ?B/s]"
      ]
     },
     "metadata": {},
     "output_type": "display_data"
    },
    {
     "data": {
      "application/vnd.jupyter.widget-view+json": {
       "model_id": "8cff95f1d7814ba3b05c08871b351254",
       "version_major": 2,
       "version_minor": 0
      },
      "text/plain": [
       "config.json:   0%|          | 0.00/4.56k [00:00<?, ?B/s]"
      ]
     },
     "metadata": {},
     "output_type": "display_data"
    },
    {
     "data": {
      "application/vnd.jupyter.widget-view+json": {
       "model_id": "06c9cfad38484d0589f92df5d932cc3d",
       "version_major": 2,
       "version_minor": 0
      },
      "text/plain": [
       "pytorch_model.bin:   0%|          | 0.00/990M [00:00<?, ?B/s]"
      ]
     },
     "metadata": {},
     "output_type": "display_data"
    },
    {
     "data": {
      "application/vnd.jupyter.widget-view+json": {
       "model_id": "3344d4beaa454be197abdb133d2f8c5b",
       "version_major": 2,
       "version_minor": 0
      },
      "text/plain": [
       "model.safetensors:   0%|          | 0.00/990M [00:00<?, ?B/s]"
      ]
     },
     "metadata": {},
     "output_type": "display_data"
    },
    {
     "name": "stdout",
     "output_type": "stream",
     "text": [
      "✅ Captions generated.\n",
      "\n",
      "🔎 Captions:\n",
      " a woman with long black hair\n",
      "a woman is putting her makeup with a brush\n",
      "a woman is putting her makeup with a brush\n",
      "a woman with long hair and a black shirt\n",
      "a woman with long black hair and a white shirt\n",
      "a woman with long hair and a white shirt\n"
     ]
    }
   ],
   "source": [
    "if __name__ == \"__main__\":\n",
    "    gdrive_url = input(\"Enter Google Drive link to video: \").strip()\n",
    "    use_gpt = input(\"Do you want GPT summary? (y/n): \").strip().lower() == 'y'\n",
    "    openai_key = input(\"Enter your OpenAI API key (press enter to skip): \").strip() if use_gpt else None\n",
    "    main(gdrive_url, openai_key)"
   ]
  },
  {
   "cell_type": "code",
   "execution_count": 11,
   "id": "435a00ed",
   "metadata": {},
   "outputs": [
    {
     "name": "stdout",
     "output_type": "stream",
     "text": [
      "Enter Google Drive link to video: https://drive.google.com/file/d/1QUqBcjyNRTXmHpeGqOxW8FCUp9TpL9-7/view?usp=drive_link\n",
      "Do you want GPT summary? (y/n): y\n",
      "Enter your OpenAI API key (press enter to skip): \n"
     ]
    },
    {
     "name": "stderr",
     "output_type": "stream",
     "text": [
      "Downloading...\n",
      "From: https://drive.google.com/uc?id=1QUqBcjyNRTXmHpeGqOxW8FCUp9TpL9-7\n",
      "To: C:\\Users\\DELL\\temp_video.mp4\n",
      "\n",
      "\n",
      "  0%|                                                                                       | 0.00/880k [00:00<?, ?B/s]\u001b[A\u001b[A\n",
      "\n",
      " 60%|███████████████████████████████████████████████▋                                | 524k/880k [00:01<00:00, 410kB/s]\u001b[A\u001b[A\n",
      "\n",
      "100%|████████████████████████████████████████████████████████████████████████████████| 880k/880k [00:01<00:00, 473kB/s]\u001b[A\u001b[A\n"
     ]
    },
    {
     "name": "stdout",
     "output_type": "stream",
     "text": [
      "✅ Video downloaded.\n",
      "✅ Extracted 9 frames.\n",
      "✅ Captions generated.\n",
      "\n",
      "🔎 Captions:\n",
      " a person cutting a piece of paper with a knife\n",
      "a person cutting a piece of paper with scissors\n",
      "a person is using a knife to cut a piece of paper\n",
      "a person is making a piece of paper\n",
      "a person is making a piece of paper\n",
      "a person cutting a piece of ice on a table\n",
      "a person cutting up a piece of white paper\n",
      "a person cutting up some food on a cutting board\n",
      "a person cutting up some food on a cutting board\n"
     ]
    }
   ],
   "source": [
    "if __name__ == \"__main__\":\n",
    "    gdrive_url = input(\"Enter Google Drive link to video: \").strip()\n",
    "    use_gpt = input(\"Do you want GPT summary? (y/n): \").strip().lower() == 'y'\n",
    "    openai_key = input(\"Enter your OpenAI API key (press enter to skip): \").strip() if use_gpt else None\n",
    "    main(gdrive_url, openai_key)"
   ]
  },
  {
   "cell_type": "code",
   "execution_count": 13,
   "id": "10e889e9",
   "metadata": {},
   "outputs": [
    {
     "name": "stdout",
     "output_type": "stream",
     "text": [
      "Enter Google Drive link to video: https://drive.google.com/file/d/11pEux3aAw-wN6SF1PgmJdVMQnRYkvyb-/view?usp=drive_link\n",
      "Do you want GPT summary? (y/n): y\n",
      "Enter your OpenAI API key (press enter to skip): \n"
     ]
    },
    {
     "name": "stderr",
     "output_type": "stream",
     "text": [
      "Downloading...\n",
      "From: https://drive.google.com/uc?id=11pEux3aAw-wN6SF1PgmJdVMQnRYkvyb-\n",
      "To: C:\\Users\\DELL\\temp_video.mp4\n",
      "100%|████████████████████████████████████████████████████████████████████████████████| 450k/450k [00:03<00:00, 129kB/s]\n"
     ]
    },
    {
     "name": "stdout",
     "output_type": "stream",
     "text": [
      "✅ Video downloaded.\n",
      "✅ Extracted 5 frames.\n",
      "✅ Captions generated.\n",
      "\n",
      "🔎 Captions:\n",
      " a group of people playing with a ball\n",
      "a group of people are dancing on a red carpet\n",
      "a scene from the movie ' s trailer\n",
      "a man is dancing on a red carpet\n",
      "a man is doing a trick on a skateboard\n",
      "a person cutting a piece of ice on a table\n",
      "a person cutting up a piece of white paper\n",
      "a person cutting up some food on a cutting board\n",
      "a person cutting up some food on a cutting board\n"
     ]
    }
   ],
   "source": [
    "if __name__ == \"__main__\":\n",
    "    gdrive_url = input(\"Enter Google Drive link to video: \").strip()\n",
    "    use_gpt = input(\"Do you want GPT summary? (y/n): \").strip().lower() == 'y'\n",
    "    openai_key = input(\"Enter your OpenAI API key (press enter to skip): \").strip() if use_gpt else None\n",
    "    main(gdrive_url, openai_key)"
   ]
  },
  {
   "cell_type": "code",
   "execution_count": 14,
   "id": "445a22a3",
   "metadata": {},
   "outputs": [
    {
     "name": "stdout",
     "output_type": "stream",
     "text": [
      "Enter Google Drive link to video: https://drive.google.com/file/d/1_S5SHx0vaxy9vjNpgzyoRcyEHUepnJwP/view?usp=drive_link\n",
      "Do you want GPT summary? (y/n): y\n",
      "Enter your OpenAI API key (press enter to skip): \n"
     ]
    },
    {
     "name": "stderr",
     "output_type": "stream",
     "text": [
      "Downloading...\n",
      "From: https://drive.google.com/uc?id=1_S5SHx0vaxy9vjNpgzyoRcyEHUepnJwP\n",
      "To: C:\\Users\\DELL\\temp_video.mp4\n",
      "100%|████████████████████████████████████████████████████████████████████████████████| 503k/503k [00:03<00:00, 141kB/s]\n"
     ]
    },
    {
     "name": "stdout",
     "output_type": "stream",
     "text": [
      "✅ Video downloaded.\n",
      "✅ Extracted 7 frames.\n",
      "✅ Captions generated.\n",
      "\n",
      "🔎 Captions:\n",
      " a man in a kitchen\n",
      "a man in a kitchen\n",
      "a man in a kitchen\n",
      "a man in a kitchen\n",
      "a man in a kitchen\n",
      "a man in a kitchen\n",
      "a man in a kitchen\n",
      "a person cutting up some food on a cutting board\n",
      "a person cutting up some food on a cutting board\n"
     ]
    }
   ],
   "source": [
    "if __name__ == \"__main__\":\n",
    "    gdrive_url = input(\"Enter Google Drive link to video: \").strip()\n",
    "    use_gpt = input(\"Do you want GPT summary? (y/n): \").strip().lower() == 'y'\n",
    "    openai_key = input(\"Enter your OpenAI API key (press enter to skip): \").strip() if use_gpt else None\n",
    "    main(gdrive_url, openai_key)"
   ]
  },
  {
   "cell_type": "code",
   "execution_count": 15,
   "id": "19288b60",
   "metadata": {},
   "outputs": [
    {
     "name": "stdout",
     "output_type": "stream",
     "text": [
      "Enter Google Drive link to video: https://drive.google.com/file/d/142QhSA64szcgnRTjr8V5yt5MHf3d3zxq/view?usp=drive_link\n",
      "Do you want GPT summary? (y/n): y\n",
      "Enter your OpenAI API key (press enter to skip): \n"
     ]
    },
    {
     "name": "stderr",
     "output_type": "stream",
     "text": [
      "Downloading...\n",
      "From: https://drive.google.com/uc?id=142QhSA64szcgnRTjr8V5yt5MHf3d3zxq\n",
      "To: C:\\Users\\DELL\\temp_video.mp4\n",
      "100%|███████████████████████████████████████████████████████████████████████████████| 631k/631k [00:00<00:00, 1.64MB/s]\n"
     ]
    },
    {
     "name": "stdout",
     "output_type": "stream",
     "text": [
      "✅ Video downloaded.\n",
      "✅ Extracted 5 frames.\n",
      "✅ Captions generated.\n",
      "\n",
      "🔎 Captions:\n",
      " a soccer game on a tv screen\n",
      "a soccer game with a soccer field and a crowd\n",
      "a soccer game with a player on the field\n",
      "a soccer game is shown on a tv screen\n",
      "a soccer game with a player on the field\n",
      "a man in a kitchen\n",
      "a man in a kitchen\n",
      "a person cutting up some food on a cutting board\n",
      "a person cutting up some food on a cutting board\n"
     ]
    }
   ],
   "source": [
    "if __name__ == \"__main__\":\n",
    "    gdrive_url = input(\"Enter Google Drive link to video: \").strip()\n",
    "    use_gpt = input(\"Do you want GPT summary? (y/n): \").strip().lower() == 'y'\n",
    "    openai_key = input(\"Enter your OpenAI API key (press enter to skip): \").strip() if use_gpt else None\n",
    "    main(gdrive_url, openai_key)\n",
    "    "
   ]
  },
  {
   "cell_type": "code",
   "execution_count": 16,
   "id": "3793c85a",
   "metadata": {},
   "outputs": [
    {
     "name": "stdout",
     "output_type": "stream",
     "text": [
      "Enter Google Drive link to video: https://drive.google.com/file/d/16vZYDYDNyWQSxKrgyzRcmbuHPOF9qcdl/view?usp=drive_link\n",
      "Do you want GPT summary? (y/n): y\n",
      "Enter your OpenAI API key (press enter to skip): \n"
     ]
    },
    {
     "name": "stderr",
     "output_type": "stream",
     "text": [
      "Downloading...\n",
      "From: https://drive.google.com/uc?id=16vZYDYDNyWQSxKrgyzRcmbuHPOF9qcdl\n",
      "To: C:\\Users\\DELL\\temp_video.mp4\n",
      "100%|███████████████████████████████████████████████████████████████████████████████| 787k/787k [00:00<00:00, 2.23MB/s]\n"
     ]
    },
    {
     "name": "stdout",
     "output_type": "stream",
     "text": [
      "✅ Video downloaded.\n",
      "✅ Extracted 9 frames.\n",
      "✅ Captions generated.\n",
      "\n",
      "🔎 Captions:\n",
      " a person using a keyboard to play a game\n",
      "a person is using a keyboard to play music\n",
      "a person using a keyboard to play music\n",
      "a person using a keyboard to play music\n",
      "a person is using a keyboard to play music\n",
      "a person is using a keyboard to play music\n",
      "a person using a keyboard to play a game\n",
      "a person using a keyboard to play a game\n",
      "a person using a keyboard to play music\n"
     ]
    }
   ],
   "source": [
    "if __name__ == \"__main__\":\n",
    "    gdrive_url = input(\"Enter Google Drive link to video: \").strip()\n",
    "    use_gpt = input(\"Do you want GPT summary? (y/n): \").strip().lower() == 'y'\n",
    "    openai_key = input(\"Enter your OpenAI API key (press enter to skip): \").strip() if use_gpt else None\n",
    "    main(gdrive_url, openai_key)\n",
    "    "
   ]
  },
  {
   "cell_type": "code",
   "execution_count": 17,
   "id": "e8354ec9",
   "metadata": {},
   "outputs": [
    {
     "name": "stdout",
     "output_type": "stream",
     "text": [
      "Enter Google Drive link to video: https://drive.google.com/file/d/1DHTmahUt5yn4kucLylQ-uELfWelFfm6q/view?usp=drive_link\n",
      "Do you want GPT summary? (y/n): y\n",
      "Enter your OpenAI API key (press enter to skip): \n"
     ]
    },
    {
     "name": "stderr",
     "output_type": "stream",
     "text": [
      "Downloading...\n",
      "From: https://drive.google.com/uc?id=1DHTmahUt5yn4kucLylQ-uELfWelFfm6q\n",
      "To: C:\\Users\\DELL\\temp_video.mp4\n",
      "100%|███████████████████████████████████████████████████████████████████████████████| 833k/833k [00:00<00:00, 1.22MB/s]\n"
     ]
    },
    {
     "name": "stdout",
     "output_type": "stream",
     "text": [
      "✅ Video downloaded.\n",
      "✅ Extracted 7 frames.\n",
      "✅ Captions generated.\n",
      "\n",
      "🔎 Captions:\n",
      " a man is performing a trick on a pole\n",
      "a man is doing a trick on a basketball court\n",
      "a man on a pole in the air\n",
      "a man is standing on a stage with a microphone\n",
      "a man is performing a trick on a stage\n",
      "a man is performing a trick on a stage\n",
      "a man doing a handstant on a gymnastics court\n",
      "a person using a keyboard to play a game\n",
      "a person using a keyboard to play music\n"
     ]
    }
   ],
   "source": [
    "if __name__ == \"__main__\":\n",
    "    gdrive_url = input(\"Enter Google Drive link to video: \").strip()\n",
    "    use_gpt = input(\"Do you want GPT summary? (y/n): \").strip().lower() == 'y'\n",
    "    openai_key = input(\"Enter your OpenAI API key (press enter to skip): \").strip() if use_gpt else None\n",
    "    main(gdrive_url, openai_key)\n",
    "    "
   ]
  },
  {
   "cell_type": "code",
   "execution_count": 18,
   "id": "5859b00b",
   "metadata": {},
   "outputs": [
    {
     "name": "stdout",
     "output_type": "stream",
     "text": [
      "Enter Google Drive link to video: https://drive.google.com/file/d/19EMulvuPMFdNaB8-n5_6NGEuuEmRM82y/view?usp=drive_link\n",
      "Do you want GPT summary? (y/n): y\n",
      "Enter your OpenAI API key (press enter to skip): \n"
     ]
    },
    {
     "name": "stderr",
     "output_type": "stream",
     "text": [
      "Downloading...\n",
      "From: https://drive.google.com/uc?id=19EMulvuPMFdNaB8-n5_6NGEuuEmRM82y\n",
      "To: C:\\Users\\DELL\\temp_video.mp4\n",
      "100%|███████████████████████████████████████████████████████████████████████████████| 606k/606k [00:00<00:00, 1.43MB/s]\n"
     ]
    },
    {
     "name": "stdout",
     "output_type": "stream",
     "text": [
      "✅ Video downloaded.\n",
      "✅ Extracted 8 frames.\n",
      "✅ Captions generated.\n",
      "\n",
      "🔎 Captions:\n",
      " a dog walking down a dirt road in the woods\n",
      "a person riding a bike down a dirt road\n",
      "a dog is walking down the road in the woods\n",
      "a man walking a dog down a dirt road\n",
      "a man is walking a dog on a dirt road\n",
      "a man riding a bike down a dirt road\n",
      "a man riding a bike down a road\n",
      "a man walking down a road in the woods\n",
      "a person using a keyboard to play music\n"
     ]
    }
   ],
   "source": [
    "if __name__ == \"__main__\":\n",
    "    gdrive_url = input(\"Enter Google Drive link to video: \").strip()\n",
    "    use_gpt = input(\"Do you want GPT summary? (y/n): \").strip().lower() == 'y'\n",
    "    openai_key = input(\"Enter your OpenAI API key (press enter to skip): \").strip() if use_gpt else None\n",
    "    main(gdrive_url, openai_key)"
   ]
  },
  {
   "cell_type": "code",
   "execution_count": 19,
   "id": "c1a7d3dc",
   "metadata": {},
   "outputs": [
    {
     "name": "stdout",
     "output_type": "stream",
     "text": [
      "Enter Google Drive link to video: https://drive.google.com/file/d/1EW3mf5D9GrDtbOoI_gpb1t96yrzz8MWO/view?usp=drive_link\n",
      "Do you want GPT summary? (y/n): y\n",
      "Enter your OpenAI API key (press enter to skip): \n"
     ]
    },
    {
     "name": "stderr",
     "output_type": "stream",
     "text": [
      "Downloading...\n",
      "From: https://drive.google.com/uc?id=1EW3mf5D9GrDtbOoI_gpb1t96yrzz8MWO\n",
      "To: C:\\Users\\DELL\\temp_video.mp4\n",
      "100%|███████████████████████████████████████████████████████████████████████████████| 419k/419k [00:00<00:00, 1.35MB/s]\n"
     ]
    },
    {
     "name": "stdout",
     "output_type": "stream",
     "text": [
      "✅ Video downloaded.\n",
      "✅ Extracted 7 frames.\n",
      "✅ Captions generated.\n",
      "\n",
      "🔎 Captions:\n",
      " a man standing in front of a blackboard\n",
      "a man writing on a blackboard\n",
      "a man writing on a blackboard\n",
      "a man is writing on a blackboard\n",
      "a man is writing on a blackboard\n",
      "a man is writing on a blackboard\n",
      "a man is writing on a blackboard\n",
      "a man walking down a road in the woods\n",
      "a person using a keyboard to play music\n"
     ]
    }
   ],
   "source": [
    "if __name__ == \"__main__\":\n",
    "    gdrive_url = input(\"Enter Google Drive link to video: \").strip()\n",
    "    use_gpt = input(\"Do you want GPT summary? (y/n): \").strip().lower() == 'y'\n",
    "    openai_key = input(\"Enter your OpenAI API key (press enter to skip): \").strip() if use_gpt else None\n",
    "    main(gdrive_url, openai_key)"
   ]
  },
  {
   "cell_type": "code",
   "execution_count": 20,
   "id": "a7f64077",
   "metadata": {},
   "outputs": [
    {
     "name": "stdout",
     "output_type": "stream",
     "text": [
      "Enter Google Drive link to video: https://drive.google.com/file/d/1KtoRj6dF0MYL2iWb370Qn36qkbwV4Cg3/view?usp=drive_link\n",
      "Do you want GPT summary? (y/n): y\n",
      "Enter your OpenAI API key (press enter to skip): \n"
     ]
    },
    {
     "name": "stderr",
     "output_type": "stream",
     "text": [
      "Downloading...\n",
      "From: https://drive.google.com/uc?id=1KtoRj6dF0MYL2iWb370Qn36qkbwV4Cg3\n",
      "To: C:\\Users\\DELL\\temp_video.mp4\n",
      "100%|███████████████████████████████████████████████████████████████████████████████| 610k/610k [00:00<00:00, 1.96MB/s]\n"
     ]
    },
    {
     "name": "stdout",
     "output_type": "stream",
     "text": [
      "✅ Video downloaded.\n",
      "✅ Extracted 7 frames.\n",
      "✅ Captions generated.\n",
      "\n",
      "🔎 Captions:\n",
      " a man holding a cell phone\n",
      "a man holding a tree\n",
      "a man standing under a tree\n",
      "a man holding a tree\n",
      "a man holding a kite\n",
      "a man holding a bunch of green leaves\n",
      "a man is holding a cell phone\n",
      "a man walking down a road in the woods\n",
      "a person using a keyboard to play music\n"
     ]
    }
   ],
   "source": [
    "if __name__ == \"__main__\":\n",
    "    gdrive_url = input(\"Enter Google Drive link to video: \").strip()\n",
    "    use_gpt = input(\"Do you want GPT summary? (y/n): \").strip().lower() == 'y'\n",
    "    openai_key = input(\"Enter your OpenAI API key (press enter to skip): \").strip() if use_gpt else None\n",
    "    main(gdrive_url, openai_key)"
   ]
  },
  {
   "cell_type": "code",
   "execution_count": null,
   "id": "c010a8cd",
   "metadata": {},
   "outputs": [],
   "source": []
  }
 ],
 "metadata": {
  "kernelspec": {
   "display_name": "Python 3 (ipykernel)",
   "language": "python",
   "name": "python3"
  },
  "language_info": {
   "codemirror_mode": {
    "name": "ipython",
    "version": 3
   },
   "file_extension": ".py",
   "mimetype": "text/x-python",
   "name": "python",
   "nbconvert_exporter": "python",
   "pygments_lexer": "ipython3",
   "version": "3.9.13"
  }
 },
 "nbformat": 4,
 "nbformat_minor": 5
}
